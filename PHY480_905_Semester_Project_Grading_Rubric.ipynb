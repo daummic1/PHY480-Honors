{
  "cells": [
    {
      "cell_type": "markdown",
      "id": "3865621b",
      "metadata": {
        "id": "3865621b"
      },
      "source": [
        "# PHY480/905 Semester Project Grading Rubrics\n",
        "\n",
        "You will be getting 300 points for the project, accounting for 30% of your semester grade. \n",
        "The presentation slides (about 5 slides per person) are due on April 23rd (Sunday) 11:59PM, and the presentation will take place during in the last week of classes (assignment TBD). \n",
        "Your notebook and LaTeX report are due on April 28st (Friday) 5PM. "
      ]
    },
    {
      "cell_type": "markdown",
      "id": "da9f65ad",
      "metadata": {
        "id": "da9f65ad"
      },
      "source": [
        "------\n",
        "## Part 1: Slide and Presentation (100 points)\n",
        "\n",
        "\n",
        "### 1.1 Presentation slides\n",
        "\n",
        "You can create your slides using the presentation software of your choosing (e.g. Google Slides, Powerpoint, Keynote).\n",
        "Once you've finished your slides, you should save a PDF copy that you can submit with your Jupyter notebook.\n",
        "You should aim to have a reasonable number of slides &mdash; a good guideline is to plan for about 1 minute per slide.\n",
        "For a presentation of this length, you probably wouldn't want to have more than 6 or 7 slides, but you should make sure that you have a sufficient number of slides to support your presentation.\n",
        "\n",
        "**The slides should**:\n",
        "\n",
        "* Address your project goals and accomplishments in a logical order.\n",
        "* Include a title slide with your project title, name, and course number (with section number).\n",
        "* Effectively communicate information through a combination of text and figures. Text and figures should be clearly legible in your recorded presentation.\n",
        "* Only include text and figures that support the presentation (avoid including content \"just because\").\n",
        "* Avoid large paragraphs of text, use bullet points instead.\n",
        "\n",
        "If you would like to try to make presentation slides using your Jupyter Notebook visit this [site](https://rise.readthedocs.io/en/stable/).\n",
        "This is **not** a requirement, just something some instructors have found useful and interesting. "
      ]
    },
    {
      "cell_type": "markdown",
      "id": "eea9b6fb",
      "metadata": {
        "id": "eea9b6fb"
      },
      "source": [
        "### 1.2 Recording \n",
        "\n",
        "Once you've finished your presentation slides, you can choose to use Zoom to record your presentation or present it in person during the class.\n",
        "You should be able to \"Share Screen\" in Zoom to share your slides and talk through the presentation as if you were giving it live.\n",
        "**You should make sure that your recording is at least 4 but no longer than 5 minutes.**\n",
        "You will turn in the \"mp4\" file that Zoom produces when your record the Zoom session."
      ]
    },
    {
      "cell_type": "markdown",
      "id": "27e5b586",
      "metadata": {
        "id": "27e5b586"
      },
      "source": [
        "### 1.3 Grading Rubric\n",
        "\n",
        "The presentation/project will be graded as follows (**total: 100 points**):\n",
        "\n",
        "* Oral presentation (**30 points**). Is it clear and well-structured? Does the student effectively communicate the key ideas about their results?\n",
        "\t* *Excellent presentation*: student speaks clearly and in a logical manner, and makes their key points clear. (**30 points**)\n",
        "\t* *Good presentation*: student speaks clearly and logically and conveys key points, but presentation is somewhat lacking (**20 points**)\n",
        "\t* *Fair presentation*: student's oral presentation is substantially lacking (speaking too quietly to be heard or with little inflection, clarity/logical flow in speaking is sub-par, etc.) (**10 points**)\n",
        "\t* *Poor presentation*: student's oral presentation is completely lacking (cannot be heard, there is no logical progression to the presentation) (**5 points**)\n",
        "\n",
        "* Presentation slides (**30 points**). Do the slides complement their oral presentation, and conform to the guidelines?\n",
        "\t* *Excellent slides*: Slides conform to specifications in final presentation document, including number of slides, adequately addressing all points, legibility. Slides complement oral presentation. (**30 points**)\n",
        "\t* *Good slides*: Slides deviate from specifications in some minor way: too many or too few slides, not all points addressed, some slides hard to understand (poor graphics, too much or too little text, etc.) (**20 points**)\n",
        "\t* *Fair slides*: Slides deviate from specifications in some substantial way: too many or too few slides, half or fewer of points addressed, most slides hard to understand (poor graphics, too much or too little text, etc.) (**10 points**)\n",
        "\t* *Poor slides*: Slides do not conform to specifications in any meaningful way. (**5 points**)\n",
        "\n",
        "* Peer assessment (**15 points**). The project will be scored by fellow classmates using a provided rubric to determine a peer evaluation score (out of 10).\n",
        "\n",
        "* Feedback to your fellow students  (**25 points**). \n",
        "Everyone is required to provide feedback, questions, suggestions to your classmates' presentation. You should complete the feedback to all fellow students who are not working with you and your unique comments and feedbacks will be sent to the presenters for them to improve in their final report/projects. \n"
      ]
    },
    {
      "cell_type": "markdown",
      "id": "1aeacaec",
      "metadata": {
        "id": "1aeacaec"
      },
      "source": [
        "--- \n",
        "### Part 2: Jupyter Notebook (100 points)\n",
        "\n",
        "You should should use the provided template to work on your semester project.\n",
        "Failure to do so will result in a 50% deduction in the notebook point. "
      ]
    },
    {
      "cell_type": "markdown",
      "id": "7f38bebf",
      "metadata": {
        "id": "7f38bebf"
      },
      "source": [
        "### 2.1 Requirements\n",
        "Your **Jupyter notebook** should contain the following:\n",
        "\n",
        "* All of the code used to complete your project. The code should be documented so that the instructor can understand what you did and why you did it. This means including meaningful comments in the code itself! You should also use logical variable names to ease the reading of the code.\n",
        "\n",
        "* Narrative text (using Markdown cells) that explains what you did, why you did it, and how you went about it. You should break the notebook up into the following meaningful sections so that the instructor can follow the logical flow of your work:\n",
        "\n",
        "- **Introduction**: Provide some brief context for the problem and what question(s) you set out to answer.\n",
        "\n",
        "- **Methodology**: How did you go about answering your question(s)? Most of your code will be contained in this section.\n",
        "\n",
        "- **Results and Discussion**: What did you find when you carried out your methods? Some of your code related to presenting results/figures/data may be replicated from the method section or may only be present in this section.  All of the plots that you plan on using for your presentation should be present in this section.\n",
        "\n",
        "- **Conclusion and Perspectives**: What did you learn from your results? What obstacles did you run into? What would you do differently next time? What is the answer to your question(s) and why?\n",
        "\n",
        "- **References**: List the source(s) for any data and/or literature cited in your project.  Ideally, this should be formatted using a formal citation format (MLA or APA or other, your choice!). Multiple free online citation generators are available such as [EasyBib](http://www.easybib.com/style). \n",
        "\n",
        "_**Important:** If you use **any** code that you find on the Internet for your project you **must** cite it or you risk losing most/all of the points for your project._"
      ]
    },
    {
      "cell_type": "markdown",
      "id": "315caee0",
      "metadata": {
        "id": "315caee0"
      },
      "source": [
        "### 2.2 Grading Rubric\n",
        "\n",
        "1. **Reproduce the results (40 points)**  Ability to run and reproduce the exact output in Colab from top to bottom.\n",
        "\n",
        "1. **Well-documented code and good coding style (30 points)** The code should have adequate comments and use [docstrings](https://en.wikipedia.org/wiki/Docstring) for functions and classes. The code should be high quality and well written.  Do the variable names make sense? Are variables clearly identified? Are appropriate data types used (dictionaries vs. Numpy arrays)?\n",
        "\n",
        "1. **Clear writeup (20 points)**  Using Markdown cells fill in content (similar to the pre-class and in-class notebooks) that guides a reader through your code. Any of your classmates who read the code for the first time should be able to understand what it is doing and why.\n",
        "\n",
        "1. **Backup plan (10 points)** Evidence of using any code backup system for the semester project. This can be your github checkin history or googledrive file version backup history. Any code work for more than 4 hours should be backed up so that you don't waste half of an afternoon (or morning). "
      ]
    },
    {
      "cell_type": "markdown",
      "id": "09444535",
      "metadata": {
        "id": "09444535"
      },
      "source": [
        "# Part 3: Semester Report in LaTeX (100 points) \n",
        "\n",
        "### 3.1 Requirements\n",
        "You should use Overleaf to write the semester report with the template and guidelines \n",
        "[LaTex template](https://www.overleaf.com/read/btkjwgpgymnm) imported into your own (or your teammate's) Overleaf. \n",
        "Make sure you cover all the points in the template.\n",
        "\n",
        "### 3.2 Grading rubric\n",
        "\n",
        "1. **Follow all guidelines in the template (30 points)**\n",
        "\n",
        "1. **Clear explanation, logic and structure (30 points)**\n",
        "\n",
        "1. **Provide all necessary references (20 points)**\n",
        "\n",
        "1. **Scientific reasoning (20 points)** How does the result support the reasoning? "
      ]
    }
  ],
  "metadata": {
    "colab": {
      "provenance": []
    },
    "kernelspec": {
      "display_name": "Python 3 (ipykernel)",
      "language": "python",
      "name": "python3"
    },
    "language_info": {
      "codemirror_mode": {
        "name": "ipython",
        "version": 3
      },
      "file_extension": ".py",
      "mimetype": "text/x-python",
      "name": "python",
      "nbconvert_exporter": "python",
      "pygments_lexer": "ipython3",
      "version": "3.9.7"
    }
  },
  "nbformat": 4,
  "nbformat_minor": 5
}
